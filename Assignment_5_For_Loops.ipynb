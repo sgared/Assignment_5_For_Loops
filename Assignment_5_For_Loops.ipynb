{
 "cells": [
  {
   "cell_type": "markdown",
   "id": "a6400ca34047016e",
   "metadata": {},
   "source": [
    "Assignment 5 | For Loops"
   ]
  },
  {
   "cell_type": "markdown",
   "id": "a8d4842fbff6511c",
   "metadata": {},
   "source": [
    "Purpose:\n",
    "\n",
    "The purpose of this assignment is to utilize python programming in practical setting to solve real world problems."
   ]
  },
  {
   "cell_type": "markdown",
   "id": "a0c3dc48e49b7e80",
   "metadata": {},
   "source": [
    "Skills:\n",
    "In order to complete this assignment you will need to\n",
    "\n",
    "use critical thinking to write code to answer the questions\n",
    "\n",
    "practice Python fundamentals and best practices"
   ]
  },
  {
   "cell_type": "markdown",
   "id": "9bcf818f68062f8f",
   "metadata": {},
   "source": [
    "Knowledge:\n",
    "\n",
    "This assignment will help you gain the following:\n",
    "\n",
    "utilize lists and ranges for basic iteration\n",
    "\n",
    "use for loops for repeated execution"
   ]
  },
  {
   "cell_type": "markdown",
   "id": "948e3c960d7110f0",
   "metadata": {},
   "source": [
    "1.Prime numbers are numbers which can only be evenly divided by 1 and itself, or put another way numbers whose factors include 1 and itself. Prime numbers are of great interest in many fields of mathematics, including cryptography. Write a program that asks the user for to input an integer and will print all prime numbers between 2 and the inputted number. (You may want to consider using nested for loops.) (40 points)\n",
    "\n"
   ]
  },
  {
   "cell_type": "code",
   "execution_count": 58,
   "id": "29b7d9f25f8ed1b2",
   "metadata": {
    "ExecuteTime": {
     "end_time": "2024-02-22T02:17:14.969106900Z",
     "start_time": "2024-02-22T02:17:05.147991900Z"
    }
   },
   "outputs": [
    {
     "name": "stdout",
     "output_type": "stream",
     "text": [
      "The prime numbers up to 100 are: [2, 3, 5, 7, 11, 13, 17, 19, 23, 29, 31, 37, 41, 43, 47, 53, 59, 61, 67, 71, 73, 79, 83, 89, 97]\n"
     ]
    }
   ],
   "source": [
    "#a.100\n",
    "Max_tries = 1\n",
    "tries = 0\n",
    "\n",
    "while tries < Max_tries:\n",
    "    try:\n",
    "        prime_num = int(input(\"Please Enter a number: \"))\n",
    "        if prime_num <= 0:\n",
    "            print(\"Please Enter a positive integer\")\n",
    "            continue\n",
    "        prime_numbers = [] #Create empty list to hold the number of prime numbers\n",
    "        for i in range(2, prime_num + 1): #Ran the outer loop starting from 2 to one plus the user_input\n",
    "            is_prime = True #if this is true,add i to the prime_numbers list\n",
    "            for j in range(2,i):\n",
    "                if i % j == 0:\n",
    "                    is_prime = False #if the number could be divided by any other number than than it set is_prime equal to false\n",
    "                    break  #breaks out from the inner loop\n",
    "            if is_prime: # if is_prime is true, add item i to prime_numbers list\n",
    "                prime_numbers +=[i]\n",
    "                    \n",
    "        print(\"The prime numbers up to\", prime_num, \"are:\", prime_numbers)\n",
    "        break\n",
    "\n",
    "    except ValueError:\n",
    "        print(\"Please enter a valid integer value.\")\n",
    "    tries += 1\n",
    "    "
   ]
  },
  {
   "cell_type": "markdown",
   "id": "d4f3087171b88e15",
   "metadata": {},
   "source": [
    "2.Pascal’s Triangle is a simple and surprisingly profound mathematical construct with applications to probability theory, combinatorics, and algebra. It was popularized by French mathematician, Blaise Pascal, but records of it date back several centuries to scholars from across the world: India, Persia, China, Germany, and Italy. Write a program that asks the user to input an integer number of rows, and will print a Pascal’s Triangle with that many rows. You will want to develop a way of determining both the number of values in the pyramid, as well their values based upon the row number and the number of other values in the row. (The output should be roughly pyrimidal in shape, points will be deducted for significant deviations.) (40 points)"
   ]
  },
  {
   "cell_type": "code",
   "execution_count": 60,
   "id": "e2731bc6a213c3d2",
   "metadata": {
    "ExecuteTime": {
     "end_time": "2024-02-22T02:17:27.594927200Z",
     "start_time": "2024-02-22T02:17:23.543970500Z"
    }
   },
   "outputs": [
    {
     "name": "stdout",
     "output_type": "stream",
     "text": [
      "1 \n",
      "1 1 \n",
      "1 2 1 \n"
     ]
    }
   ],
   "source": [
    "#a.3\n",
    "Rows = 0\n",
    "current_row = \"\"\n",
    "while Rows <= 0:\n",
    "    Rows = input(\"Enter the number of rows you want in your Pascal's Triangle: \")\n",
    "    try:\n",
    "        Rows = int(Rows)\n",
    "        if Rows <= 0:\n",
    "            print(\"Please enter an integer value greater than zero.\")\n",
    "    except ValueError:\n",
    "        Rows = 0\n",
    "        print(\"Please enter a valid integer value greater than zero.\")\n",
    "\n",
    "# Loop through each row\n",
    "for i in range(Rows):\n",
    "    current_row = ''  # Initialize current_row for this row\n",
    "\n",
    "    # Calculate the numbers in this row\n",
    "    for j in range(i + 1):\n",
    "        # Calculate each number using binomial coefficient formula\n",
    "        num = 1\n",
    "        for k in range(j):\n",
    "            num = num * (i - k) // (k + 1)\n",
    "        # Append the number to current_row\n",
    "        current_row += str(num) + ' '\n",
    "\n",
    "    # Print the current row centered\n",
    "    print(current_row)\n",
    "        "
   ]
  },
  {
   "cell_type": "code",
   "execution_count": 61,
   "id": "10572479fcd1dafe",
   "metadata": {
    "ExecuteTime": {
     "end_time": "2024-02-22T02:17:30.869982400Z",
     "start_time": "2024-02-22T02:17:27.573742600Z"
    }
   },
   "outputs": [
    {
     "name": "stdout",
     "output_type": "stream",
     "text": [
      "1 \n",
      "1 1 \n",
      "1 2 1 \n",
      "1 3 3 1 \n",
      "1 4 6 4 1 \n"
     ]
    }
   ],
   "source": [
    "#b.5\n",
    "Rows = 0\n",
    "current_row = \"\"\n",
    "while Rows <= 0:\n",
    "    Rows = input(\"Enter the number of rows you want in your Pascal's Triangle: \")\n",
    "    try:\n",
    "        Rows = int(Rows)\n",
    "        if Rows <= 0:\n",
    "            print(\"Please enter an integer value greater than zero.\")\n",
    "    except ValueError:\n",
    "        Rows = 0\n",
    "        print(\"Please enter a valid integer value greater than zero.\")\n",
    "\n",
    "# Loop through each row\n",
    "for i in range(Rows):\n",
    "    current_row = ''  # Initialize current_row for this row\n",
    "\n",
    "    # Calculate the numbers in this row\n",
    "    for j in range(i + 1):\n",
    "        # Calculate each number using binomial coefficient formula\n",
    "        num = 1\n",
    "        for k in range(j):\n",
    "            num = num * (i - k) // (k + 1)\n",
    "        # Append the number to current_row\n",
    "        current_row += str(num) + ' '\n",
    "\n",
    "    # Print the current row centered\n",
    "    print(current_row)\n",
    "        "
   ]
  },
  {
   "cell_type": "code",
   "execution_count": 62,
   "id": "2a5af96d98beef77",
   "metadata": {
    "ExecuteTime": {
     "end_time": "2024-02-22T02:17:33.465920500Z",
     "start_time": "2024-02-22T02:17:30.844070200Z"
    }
   },
   "outputs": [
    {
     "name": "stdout",
     "output_type": "stream",
     "text": [
      "1 \n",
      "1 1 \n",
      "1 2 1 \n",
      "1 3 3 1 \n",
      "1 4 6 4 1 \n",
      "1 5 10 10 5 1 \n",
      "1 6 15 20 15 6 1 \n"
     ]
    }
   ],
   "source": [
    "#c.7\n",
    "Rows = 0\n",
    "current_row = \"\"\n",
    "while Rows <= 0:\n",
    "    Rows = input(\"Enter the number of rows you want in your Pascal's Triangle: \")\n",
    "    try:\n",
    "        Rows = int(Rows)\n",
    "        if Rows <= 0:\n",
    "            print(\"Please enter an integer value greater than zero.\")\n",
    "    except ValueError:\n",
    "        Rows = 0\n",
    "        print(\"Please enter a valid integer value greater than zero.\")\n",
    "\n",
    "# Loop through each row\n",
    "for i in range(Rows):\n",
    "    current_row = ''  # Initialize current_row for this row\n",
    "\n",
    "    # Calculate the numbers in this row\n",
    "    for j in range(i + 1):\n",
    "        # Calculate each number using binomial coefficient formula\n",
    "        num = 1\n",
    "        for k in range(j):\n",
    "            num = num * (i - k) // (k + 1)\n",
    "        # Append the number to current_row\n",
    "        current_row += str(num) + ' '\n",
    "\n",
    "    # Print the current row centered\n",
    "    print(current_row)\n",
    "        "
   ]
  },
  {
   "cell_type": "code",
   "execution_count": 63,
   "id": "fef5b5ea661cddf3",
   "metadata": {
    "ExecuteTime": {
     "end_time": "2024-02-22T02:17:35.295052600Z",
     "start_time": "2024-02-22T02:17:33.441262600Z"
    }
   },
   "outputs": [
    {
     "name": "stdout",
     "output_type": "stream",
     "text": [
      "1 \n",
      "1 1 \n",
      "1 2 1 \n",
      "1 3 3 1 \n",
      "1 4 6 4 1 \n",
      "1 5 10 10 5 1 \n",
      "1 6 15 20 15 6 1 \n",
      "1 7 21 35 35 21 7 1 \n",
      "1 8 28 56 70 56 28 8 1 \n",
      "1 9 36 84 126 126 84 36 9 1 \n"
     ]
    }
   ],
   "source": [
    "#d.10\n",
    "Rows = 0\n",
    "current_row = \"\"\n",
    "while Rows <= 0:\n",
    "    Rows = input(\"Enter the number of rows you want in your Pascal's Triangle: \")\n",
    "    try:\n",
    "        Rows = int(Rows)\n",
    "        if Rows <= 0:\n",
    "            print(\"Please enter an integer value greater than zero.\")\n",
    "    except ValueError:\n",
    "        Rows = 0\n",
    "        print(\"Please enter a valid integer value greater than zero.\")\n",
    "\n",
    "# Loop through each row\n",
    "for i in range(Rows):\n",
    "    current_row = ''  # Initialize current_row for this row\n",
    "\n",
    "    # Calculate the numbers in this row\n",
    "    for j in range(i + 1):\n",
    "        # Calculate each number using binomial coefficient formula\n",
    "        num = 1\n",
    "        for k in range(j):\n",
    "            num = num * (i - k) // (k + 1)\n",
    "        # Append the number to current_row\n",
    "        current_row += str(num) + ' '\n",
    "\n",
    "    # Print the current row centered\n",
    "    print(current_row)\n",
    "        "
   ]
  }
 ],
 "metadata": {
  "kernelspec": {
   "display_name": "Python 3 (ipykernel)",
   "language": "python",
   "name": "python3"
  },
  "language_info": {
   "codemirror_mode": {
    "name": "ipython",
    "version": 3
   },
   "file_extension": ".py",
   "mimetype": "text/x-python",
   "name": "python",
   "nbconvert_exporter": "python",
   "pygments_lexer": "ipython3",
   "version": "3.10.9"
  }
 },
 "nbformat": 4,
 "nbformat_minor": 5
}
